{
 "cells": [
  {
   "cell_type": "code",
   "execution_count": 2,
   "metadata": {},
   "outputs": [
    {
     "name": "stdout",
     "output_type": "stream",
     "text": [
      "Cloning into 'yolov10'...\n",
      "remote: Enumerating objects: 20332, done.\u001b[K\n",
      "remote: Total 20332 (delta 0), reused 0 (delta 0), pack-reused 20332 (from 1)\u001b[K\n",
      "Receiving objects: 100% (20332/20332), 11.09 MiB | 2.15 MiB/s, done.\n",
      "Resolving deltas: 100% (14352/14352), done.\n"
     ]
    }
   ],
   "source": [
    "!git clone https://github.com/THU-MIG/yolov10.git"
   ]
  },
  {
   "cell_type": "code",
   "execution_count": null,
   "metadata": {},
   "outputs": [
    {
     "name": "stdout",
     "output_type": "stream",
     "text": [
      "/Users/luanbui/Documents/Project/AIO_Project/YOLOV10_PRACTICE/Code/yolov10\n"
     ]
    }
   ],
   "source": [
    "%cd yolov10\n",
    "%pip install -q -r requirements.txt\n",
    "%pip install -e ."
   ]
  },
  {
   "cell_type": "code",
   "execution_count": null,
   "metadata": {},
   "outputs": [],
   "source": [
    "!wget https://github.com/THU-MIG/yolov10/releases/download/v1.1/yolov10n.pt"
   ]
  },
  {
   "cell_type": "code",
   "execution_count": 3,
   "metadata": {},
   "outputs": [
    {
     "name": "stderr",
     "output_type": "stream",
     "text": [
      "/opt/anaconda3/envs/python3/lib/python3.13/site-packages/tqdm/auto.py:21: TqdmWarning: IProgress not found. Please update jupyter and ipywidgets. See https://ipywidgets.readthedocs.io/en/stable/user_install.html\n",
      "  from .autonotebook import tqdm as notebook_tqdm\n"
     ]
    }
   ],
   "source": [
    "from ultralytics import YOLOv10\n",
    "\n",
    "model = YOLOv10.from_pretrained('jameslahm/yolov10n')"
   ]
  },
  {
   "cell_type": "code",
   "execution_count": 6,
   "metadata": {},
   "outputs": [
    {
     "name": "stdout",
     "output_type": "stream",
     "text": [
      "\n",
      "image 1/1 /Users/luanbui/Documents/Project/AIO_Project/YOLOV10_PRACTICE/Code/yolov10/../assets/images/hcmc_street.jpg: 448x640 8 persons, 2 bicycles, 1 car, 2 motorcycles, 1 backpack, 97.6ms\n",
      "Speed: 2.5ms preprocess, 97.6ms inference, 2.7ms postprocess per image at shape (1, 3, 448, 640)\n"
     ]
    }
   ],
   "source": [
    "IMG_PATH = '../assets/images/hcmc_street.jpg'\n",
    "result = model(source=IMG_PATH)[0]"
   ]
  },
  {
   "cell_type": "code",
   "execution_count": 7,
   "metadata": {},
   "outputs": [
    {
     "data": {
      "text/plain": [
       "'../assets/images/hcmc_street_predict.png'"
      ]
     },
     "execution_count": 7,
     "metadata": {},
     "output_type": "execute_result"
    }
   ],
   "source": [
    "result.save('../assets/images/hcmc_street_predict.png')"
   ]
  },
  {
   "cell_type": "code",
   "execution_count": null,
   "metadata": {},
   "outputs": [],
   "source": [
    "YAML_PATH = '../assets/datasets/safety_delmet_dataset/data.yaml'\n",
    "EPOCHS = 50\n",
    "IMG_SIZE = 640\n",
    "BATCH_SIZE = 128\n",
    "\n",
    "model.train(data=YAML_PATH,\n",
    "            epochs=EPOCHS,\n",
    "            batch=BATCH_SIZE,\n",
    "            imgsz=IMG_SIZE)"
   ]
  },
  {
   "cell_type": "code",
   "execution_count": null,
   "metadata": {},
   "outputs": [],
   "source": [
    "TRAINED_MODEL_PATH = './runs/detect/train/weights/best.pt'\n",
    "model = YOLOv10(TRAINED_MODEL_PATH)\n",
    "\n",
    "model.val(data=YAML_PATH,\n",
    "          imgsz=IMG_SIZE,\n",
    "          split='test')"
   ]
  },
  {
   "cell_type": "code",
   "execution_count": null,
   "metadata": {},
   "outputs": [],
   "source": []
  }
 ],
 "metadata": {
  "kernelspec": {
   "display_name": "python3",
   "language": "python",
   "name": "python3"
  },
  "language_info": {
   "codemirror_mode": {
    "name": "ipython",
    "version": 3
   },
   "file_extension": ".py",
   "mimetype": "text/x-python",
   "name": "python",
   "nbconvert_exporter": "python",
   "pygments_lexer": "ipython3",
   "version": "3.13.2"
  }
 },
 "nbformat": 4,
 "nbformat_minor": 2
}
